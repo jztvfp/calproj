{
 "cells": [
  {
   "cell_type": "markdown",
   "metadata": {
    "application/vnd.databricks.v1+cell": {
     "cellMetadata": {},
     "inputWidgets": {},
     "nuid": "ee353e42-ff58-4955-9608-12865bd0950e",
     "showTitle": false,
     "title": ""
    }
   },
   "source": [
    "# Setup\n",
    "\n",
    "Setup the environment"
   ]
  },
  {
   "cell_type": "code",
   "execution_count": null,
   "metadata": {},
   "outputs": [],
   "source": [
    "catalog = \"project\"\n",
    "br_schema = dbName = db = \"bronze\"\n",
    "sl_schema =  \"silver\"\n",
    "gd_schema =  \"gold\"\n",
    "\n",
    "data_volume_name = \"source_data\"\n",
    "test_volume_name = \"test_data\""
   ]
  },
  {
   "cell_type": "code",
   "execution_count": 0,
   "metadata": {
    "application/vnd.databricks.v1+cell": {
     "cellMetadata": {
      "byteLimit": 2048000,
      "rowLimit": 10000
     },
     "inputWidgets": {},
     "nuid": "6bca260b-13d1-448f-8082-30b60a85c9ae",
     "showTitle": false,
     "title": ""
    }
   },
   "outputs": [],
   "source": [
    "## Set up Catalog, schemas and volumes\n",
    "spark.sql(f'CREATE CATALOG IF NOT EXISTS `{catalog}`')\n",
    "spark.sql(f'USE CATALOG `{catalog}`')\n",
    "spark.sql(f'CREATE SCHEMA IF NOT EXISTS `{catalog}`.`{gd_schema}`')\n",
    "spark.sql(f'CREATE SCHEMA IF NOT EXISTS `{catalog}`.`{sl_schema}`')\n",
    "spark.sql(f'CREATE SCHEMA IF NOT EXISTS `{catalog}`.`{br_schema}`')\n",
    "spark.sql(f'USE SCHEMA `{br_schema}`')\n",
    "spark.sql(f'CREATE VOLUME IF NOT EXISTS `{catalog}`.`{br_schema}`.`{data_volume_name}`')\n",
    "data_volume_folder =  f\"/Volumes/{catalog}/{db}/{data_volume_name}\"\n",
    "spark.sql(f'CREATE VOLUME IF NOT EXISTS `{catalog}`.`{br_schema}`.`{test_volume_name}`')\n",
    "test_volume_folder =  f\"/Volumes/{catalog}/{db}/{test_volume_name}\""
   ]
  },
  {
   "cell_type": "code",
   "execution_count": null,
   "metadata": {},
   "outputs": [],
   "source": [
    "import shutil\n",
    "shutil.copyfile(\"./fixtures/data_group*.csv\", data_volume_folder + \"/\")\n",
    "shutil.copyfile(\"./fixtures/test*.csv\", test_volume_folder + \"/\")"
   ]
  }
 ],
 "metadata": {
  "application/vnd.databricks.v1+notebook": {
   "dashboards": [],
   "language": "python",
   "notebookMetadata": {
    "pythonIndentUnit": 2
   },
   "notebookName": "notebook",
   "widgets": {}
  },
  "kernelspec": {
   "display_name": "Python 3",
   "language": "python",
   "name": "python3"
  },
  "language_info": {
   "name": "python",
   "version": "3.11.4"
  }
 },
 "nbformat": 4,
 "nbformat_minor": 0
}
