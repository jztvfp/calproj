{
 "cells": [
  {
   "cell_type": "markdown",
   "metadata": {
    "application/vnd.databricks.v1+cell": {
     "cellMetadata": {},
     "inputWidgets": {},
     "nuid": "9a626959-61c8-4bba-84d2-2a4ecab1f7ec",
     "showTitle": false,
     "title": ""
    }
   },
   "source": [
    "# Land To Bronze\n",
    "\n",
    "This notebook sets up the DLT pipeline from the Landing volume to the bronze layer"
   ]
  },
  {
   "cell_type": "code",
   "execution_count": 0,
   "metadata": {
    "application/vnd.databricks.v1+cell": {
     "cellMetadata": {},
     "inputWidgets": {},
     "nuid": "9198e987-5606-403d-9f6d-8f14e6a4017f",
     "showTitle": false,
     "title": ""
    }
   },
   "outputs": [],
   "source": [
    "import dlt\n",
    "from pyspark.sql import functions as F\n",
    "\n",
    "source = spark.conf.get(\"source\")\n"
   ]
  },
  {
   "cell_type": "code",
   "execution_count": 0,
   "metadata": {
    "application/vnd.databricks.v1+cell": {
     "cellMetadata": {},
     "inputWidgets": {},
     "nuid": "3fc19dba-61fd-4a89-8f8c-24fee63bfb14",
     "showTitle": false,
     "title": ""
    }
   },
   "outputs": [],
   "source": [
    "@dlt.view(\n",
    "  name = \"raw_data\",\n",
    "  comment=\"Test_data\"\n",
    ")\n",
    "def data_raw():\n",
    "  df = (\n",
    "    spark.readStream\n",
    "      .format(\"cloudFiles\")\n",
    "      .option(\"cloudFiles.format\", \"csv\")\n",
    "      .option(\"cloudFiles.schemaLocation\", f\"{source}/landing/inferred_schema\")\n",
    "      .option(\"rescuedDataColumn\", \"_rescued_data\")\n",
    "      .option(\"header\",\"true\")\n",
    "      .option(\"cloudFiles.inferColumnTypes\", \"true\")\n",
    "      .option(\"cloudFiles.schemaHints\", \"timestamp timestamp\")\n",
    "      .load(source +\"/\")\n",
    "  )\n",
    "  return df.withColumn(\"filename\", F.col(\"_metadata.file_path\"))\n",
    "  \n",
    "\n",
    "\n",
    "@dlt.table(\n",
    "    name = \"bronze_data_test\",\n",
    "    comment=\"New readings - exclude rows with dates in the future\",\n",
    "    table_properties = {\n",
    "      \"quality\": \"bronze\"\n",
    "      }\n",
    ")\n",
    "def data_bronze():\n",
    "  df = dlt.read_stream(\"raw_data\")\n",
    "  return df.withColumn(\"processedtime\",F.current_timestamp())"
   ]
  }
 ],
 "metadata": {
  "application/vnd.databricks.v1+notebook": {
   "dashboards": [],
   "language": "python",
   "notebookMetadata": {
    "pythonIndentUnit": 2
   },
   "notebookName": "dlt_pipeline",
   "widgets": {}
  },
  "kernelspec": {
   "display_name": "Python 3",
   "language": "python",
   "name": "python3"
  },
  "language_info": {
   "name": "python",
   "version": "3.11.4"
  }
 },
 "nbformat": 4,
 "nbformat_minor": 0
}
