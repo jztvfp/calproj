{
 "cells": [
  {
   "cell_type": "markdown",
   "metadata": {
    "application/vnd.databricks.v1+cell": {
     "cellMetadata": {},
     "inputWidgets": {},
     "nuid": "9a626959-61c8-4bba-84d2-2a4ecab1f7ec",
     "showTitle": false,
     "tableResultSettingsMap": {},
     "title": ""
    }
   },
   "source": [
    "# Land To Bronze\n",
    "\n",
    "This notebook sets up the DLT pipeline from the Landing volume to the bronze layer"
   ]
  },
  {
   "cell_type": "code",
   "execution_count": 0,
   "metadata": {
    "application/vnd.databricks.v1+cell": {
     "cellMetadata": {
      "byteLimit": 2048000,
      "rowLimit": 10000
     },
     "inputWidgets": {},
     "nuid": "9198e987-5606-403d-9f6d-8f14e6a4017f",
     "showTitle": false,
     "tableResultSettingsMap": {},
     "title": ""
    }
   },
   "outputs": [],
   "source": [
    "import dlt\n",
    "\n",
    "from pyspark.sql import functions as F\n",
    "\n",
    "source = spark.conf.get(\"source\")\n"
   ]
  },
  {
   "cell_type": "code",
   "execution_count": 0,
   "metadata": {
    "application/vnd.databricks.v1+cell": {
     "cellMetadata": {},
     "inputWidgets": {},
     "nuid": "2d6aa40a-d466-4cb6-95b0-402f125e8eae",
     "showTitle": false,
     "tableResultSettingsMap": {},
     "title": ""
    }
   },
   "outputs": [],
   "source": [
    "catalog = \"project\"\n",
    "br_schema = \"bronze\"\n",
    "\n",
    "#Return the rules matching the tag as a format ready for DLT annotation.\n",
    "\n",
    "def get_rules(tablename, quality):\n",
    "  \"\"\"\n",
    "    loads data quality rules from csv file\n",
    "    :param tablename: tablename to match\n",
    "    :param quality: logical quality level\n",
    "    :return: dictionary of rules that matched the tag\n",
    "  \"\"\"\n",
    "  rules = {}\n",
    "  df = spark.table(f\"{catalog}.{br_schema}.expectations\").where(f\"tablename = '{tablename}' and quality ='{quality}'\")\n",
    "  for row in df.collect():\n",
    "    rules[row['name']] = row['constraint']\n",
    "  return rules"
   ]
  },
  {
   "cell_type": "code",
   "execution_count": 0,
   "metadata": {
    "application/vnd.databricks.v1+cell": {
     "cellMetadata": {},
     "inputWidgets": {},
     "nuid": "3fc19dba-61fd-4a89-8f8c-24fee63bfb14",
     "showTitle": false,
     "tableResultSettingsMap": {},
     "title": ""
    }
   },
   "outputs": [],
   "source": [
    "@dlt.view(\n",
    "  name = \"raw_data\",\n",
    "  comment=\"Raw data from the turbines\",\n",
    ")\n",
    "def data_raw():\n",
    "  df = (\n",
    "    spark.readStream\n",
    "      .format(\"cloudFiles\")\n",
    "      .option(\"cloudFiles.format\", \"csv\")\n",
    "      .option(\"cloudFiles.schemaLocation\", f\"{source}/landing/inferred_schema\")\n",
    "      .option(\"rescuedDataColumn\", \"_rescued_data\")\n",
    "      .option(\"header\",\"true\")\n",
    "      .option(\"cloudFiles.inferColumnTypes\", \"true\")\n",
    "      .option(\"cloudFiles.schemaHints\", \"timestamp timestamp\")\n",
    "      .load(source +\"/\")\n",
    "  )\n",
    "  return df.withColumn(\"filename\", F.col(\"_metadata.file_path\"))\n",
    "  \n",
    "\n",
    "\n",
    "@dlt.table(\n",
    "    name = \"turbine_data\",\n",
    "    comment=\"New readings\",\n",
    "    table_properties = {\n",
    "      \"quality\": \"bronze\"\n",
    "      }\n",
    ")\n",
    "@dlt.expect_all_or_drop(get_rules('turbine_data','bronze')) #get the rules from our centralized table.\n",
    "def data_bronze():\n",
    "  df = dlt.read_stream(\"raw_data\")\n",
    "  return df.withColumn(\"processedtime\",F.current_timestamp())"
   ]
  }
 ],
 "metadata": {
  "application/vnd.databricks.v1+notebook": {
   "dashboards": [],
   "environmentMetadata": null,
   "language": "python",
   "notebookMetadata": {
    "pythonIndentUnit": 2
   },
   "notebookName": "land_to_bronze",
   "widgets": {}
  },
  "kernelspec": {
   "display_name": "Python 3",
   "language": "python",
   "name": "python3"
  },
  "language_info": {
   "name": "python"
  }
 },
 "nbformat": 4,
 "nbformat_minor": 0
}
